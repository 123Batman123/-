{
 "cells": [
  {
   "cell_type": "markdown",
   "metadata": {},
   "source": [
    "# **Задача 1**"
   ]
  },
  {
   "cell_type": "code",
   "execution_count": null,
   "metadata": {},
   "outputs": [],
   "source": [
    "recipes = []\n",
    "with open('test.txt', 'rt', encoding='utf8') as file:\n",
    "    for i in file:\n",
    "        dish_name = i.strip()\n",
    "        recipe = {'dish': dish_name, 'list_of_products': []}\n",
    "        products_count = file.readline()\n",
    "        for j in range(int(products_count)):\n",
    "            pro = file.readline()\n",
    "            name, quantity, unit = pro.strip().split(' | ')\n",
    "            recipe['list_of_products'].append({'name': name,\n",
    "                                            'quantity': quantity,\n",
    "                                            'unit': unit})\n",
    "        blank_line = file.readline()\n",
    "        recipes.append(recipe)\n",
    "print(recipes)"
   ]
  },
  {
   "cell_type": "markdown",
   "metadata": {},
   "source": [
    "# **Задача 2**"
   ]
  },
  {
   "cell_type": "code",
   "execution_count": null,
   "metadata": {},
   "outputs": [],
   "source": [
    "def menu(dishes, persons):\n",
    "    \n",
    "    f = {}\n",
    "    for i in recipes:\n",
    "        #print(i)\n",
    "        if i['dish'] in dishes:\n",
    "            ingr = i['list_of_products']\n",
    "            for j in ingr:\n",
    "                dict_1 = {}\n",
    "                if j['name'] not in f:\n",
    "                    dict_1['measure'] = j['unit']\n",
    "                    dict_1['quantity'] = int(j['quantity']) * persons\n",
    "                    f[j['name']] = dict_1\n",
    "                else:\n",
    "                    f[j['name']]['quantity'] += int(j['quantity']) * persons\n",
    "    return f        \n",
    "print(menu(['Омлет','Запеченный картофель'], 5))"
   ]
  },
  {
   "cell_type": "markdown",
   "metadata": {},
   "source": [
    "# **Задача 3**"
   ]
  },
  {
   "cell_type": "code",
   "execution_count": null,
   "metadata": {},
   "outputs": [],
   "source": [
    "import os\n",
    "\n",
    "\n",
    "list_lines = []\n",
    "list_lines_2 = {}\n",
    "for failname in os.listdir('files'):\n",
    "    with open(os.path.join('files', failname), 'r', encoding='utf8') as f:\n",
    "        line = sum(1 for lain in f)\n",
    "        list_lines_2[line] = f.name\n",
    "        list_lines.append(line)\n",
    "        list_lines.sort()\n",
    "        print()        \n",
    "print(list_lines_2)\n",
    "print(list_lines)\n",
    "\n",
    "clean_1 = open('newfile.all', 'w')\n",
    "clean_1.close()\n",
    "\n",
    "for i in list_lines:\n",
    "    with open(list_lines_2[i], 'rt', encoding='utf8') as f_1, open('newfile.all', 'a', encoding='utf8') as f_2:\n",
    "        f_2.write(f_1.read() + '\\n')"
   ]
  }
 ],
 "metadata": {
  "kernelspec": {
   "display_name": "Python 3.10.7 64-bit",
   "language": "python",
   "name": "python3"
  },
  "language_info": {
   "codemirror_mode": {
    "name": "ipython",
    "version": 3
   },
   "file_extension": ".py",
   "mimetype": "text/x-python",
   "name": "python",
   "nbconvert_exporter": "python",
   "pygments_lexer": "ipython3",
   "version": "3.10.7"
  },
  "orig_nbformat": 4,
  "vscode": {
   "interpreter": {
    "hash": "26de051ba29f2982a8de78e945f0abaf191376122a1563185a90213a26c5da77"
   }
  }
 },
 "nbformat": 4,
 "nbformat_minor": 2
}
